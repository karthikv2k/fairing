{
 "cells": [
  {
   "cell_type": "markdown",
   "metadata": {},
   "source": [
    "## A simple regression training using LightGBM through Fairing"
   ]
  },
  {
   "cell_type": "code",
   "execution_count": 1,
   "metadata": {},
   "outputs": [],
   "source": [
    "import fairing\n",
    "\n",
    "# Setting up google container repositories (GCR) for storing output containers\n",
    "# You can use any docker container registry istead of GCR\n",
    "GCP_PROJECT = fairing.cloud.gcp.guess_project_name()\n",
    "DOCKER_REGISTRY = 'gcr.io/{}/fairing-job'.format(GCP_PROJECT)\n",
    "BASE_IMAGE = 'gcr.io/{}/lightgbm:latest'.format(GCP_PROJECT)"
   ]
  },
  {
   "cell_type": "markdown",
   "metadata": {},
   "source": [
    "## Build a base image for LightGBM\n",
    "You need to build the docker image only once and that can be reused in future runs.\n",
    "Approximate time for build and push: 10mins"
   ]
  },
  {
   "cell_type": "code",
   "execution_count": 2,
   "metadata": {},
   "outputs": [
    {
     "name": "stdout",
     "output_type": "stream",
     "text": [
      "Sending build context to Docker daemon  88.58kB\n",
      "Step 1/9 : FROM python:3.7\n",
      "^C\n",
      "The push refers to repository [gcr.io/caip-dexter-bugbash/lightgbm]\n",
      "An image does not exist locally with the tag: gcr.io/caip-dexter-bugbash/lightgbm\n"
     ]
    }
   ],
   "source": [
    "!docker build . -t {BASE_IMAGE}\n",
    "!docker push {BASE_IMAGE}"
   ]
  },
  {
   "cell_type": "markdown",
   "metadata": {},
   "source": [
    "## Launch a LightGBM train task"
   ]
  },
  {
   "cell_type": "code",
   "execution_count": 3,
   "metadata": {},
   "outputs": [],
   "source": [
    "import fairing\n",
    "from fairing.frameworks import lightgbm"
   ]
  },
  {
   "cell_type": "code",
   "execution_count": 4,
   "metadata": {},
   "outputs": [
    {
     "name": "stdout",
     "output_type": "stream",
     "text": [
      "Creating gs://caip-dexter-bugbash-fairing/...\n",
      "ServiceException: 409 Bucket caip-dexter-bugbash-fairing already exists.\n"
     ]
    }
   ],
   "source": [
    "# Creating a bucket for copying the trained model. \n",
    "# You can set gcs_bucket variable to an existing bucket name if that is desired.\n",
    "gcs_bucket = \"gs://{}-fairing\".format(GCP_PROJECT)\n",
    "!gsutil mb {gcs_bucket}"
   ]
  },
  {
   "cell_type": "code",
   "execution_count": 5,
   "metadata": {},
   "outputs": [],
   "source": [
    "params = {\n",
    "    'task': 'train',\n",
    "    'boosting_type': 'gbdt',\n",
    "    'objective': 'regression',\n",
    "    'metric': {'l2', 'l1'},\n",
    "    'metric_freq': 1,\n",
    "    'num_leaves': 31,\n",
    "    'learning_rate': 0.05,\n",
    "    'feature_fraction': 0.9,\n",
    "    'bagging_fraction': 0.8,\n",
    "    'bagging_freq': 5,\n",
    "    \"n_estimators\": 10,\n",
    "    \"is_training_metric\": \"true\",\n",
    "    \"valid_data\": \"gs://fairing-lightgbm/regression-example/regression.test\",\n",
    "    \"train_data\": \"gs://fairing-lightgbm/regression-example/regression.train\",\n",
    "    'verbose': 1,\n",
    "    \"model_output\": \"{}/lightgbm/example/model.txt\".format(gcs_bucket)\n",
    "}"
   ]
  },
  {
   "cell_type": "code",
   "execution_count": 6,
   "metadata": {},
   "outputs": [
    {
     "name": "stderr",
     "output_type": "stream",
     "text": [
      "Building image using Append builder...\n",
      "Creating docker context: /tmp/fairing_context_swxv4j48\n",
      "Loading Docker credentials for repository 'gcr.io/caip-dexter-bugbash/lightgbm:latest'\n",
      "Invoking 'docker-credential-gcloud' to obtain Docker credentials.\n",
      "Successfully obtained Docker credentials.\n",
      "Image successfully built in 1.4019325920000085s.\n",
      "Pushing image gcr.io/caip-dexter-bugbash/fairing-job/fairing-job:F6051542...\n",
      "Loading Docker credentials for repository 'gcr.io/caip-dexter-bugbash/fairing-job/fairing-job:F6051542'\n",
      "Invoking 'docker-credential-gcloud' to obtain Docker credentials.\n",
      "Successfully obtained Docker credentials.\n",
      "Uploading gcr.io/caip-dexter-bugbash/fairing-job/fairing-job:F6051542\n",
      "Layer sha256:c5e155d5a1d130a7f8a3e24cee0d9e1349bff13f90ec6a941478e558fde53c14 exists, skipping\n",
      "Layer sha256:425d7b2a5bcc7e8df5041d66655cd6173c16799afefb1645ca0e0b3fa8a1043d exists, skipping\n",
      "Layer sha256:a73086e5ef516ba8f40f945c6efe6d0d2f6b3ad04bfd29d914e67cf0f27aeffc exists, skipping\n",
      "Layer sha256:1051ee813012d0ac82bc9a56fa8e32c3d4f2c5b2a338efc0e7d3264a2ae8857f exists, skipping\n",
      "Layer sha256:eebcea7223d8cbb7782843b87fd0ba476a81e843d1a439d08c61b204714fbfff exists, skipping\n",
      "Layer sha256:221d80d00ae9675aad24913aacbadfac1ce8b7084f9765a6c0813486082c5c69 exists, skipping\n",
      "Layer sha256:4250b3117dca5e14edc32ebf1366cd54e4cda91f17610b76c504a86917ff8b95 exists, skipping\n",
      "Layer sha256:7b938d4691639f59a4650a17e7977bb4ef7e001a718a119fd11dcee58b33cf5f exists, skipping\n",
      "Layer sha256:472a6afc63327632ba525d83814cd962d55ac3b8b3cd3e820ae311f05954cfe9 exists, skipping\n",
      "Layer sha256:dc3049ff3f44d2b6af6f7dce481e8032f696e65226118725321a398f06e72cc7 exists, skipping\n",
      "Layer sha256:92368786a10dd6e629003d490dffa47c94401027cd17e4a4a519379652224561 exists, skipping\n",
      "Layer sha256:3b7ca19181b24b87e24423c01b490633bc1e47d2fcdc1987bf2e37949d6789b5 exists, skipping\n",
      "Layer sha256:5f79c90f8d7c1e4b72ecfb1ef6b6076ab0033fbdf3c67ec648a5f389c6a9fe2c exists, skipping\n",
      "Layer sha256:a4462937045ad084380d6a87303db547f73fb78bf6092c43020feb4444a24297 pushed.\n",
      "Layer sha256:310811b64f5045a483b52b69b81b00440fcb55acbdd05567e14cc811e5b54769 pushed.\n",
      "Finished upload of: gcr.io/caip-dexter-bugbash/fairing-job/fairing-job:F6051542\n",
      "Pushed image gcr.io/caip-dexter-bugbash/fairing-job/fairing-job:F6051542 in 8.157952238999997s.\n",
      "Training job fairing-job-vhhsx launched.\n",
      "Waiting for fairing-job-vhhsx-q6fsl to start...\n",
      "Pod started running True\n"
     ]
    },
    {
     "name": "stdout",
     "output_type": "stream",
     "text": [
      "Copying gs://fairing-lightgbm/regression-example/regression.train.weight...\n",
      "/ [1 files][131.6 KiB/131.6 KiB]                                                \n",
      "Operation completed over 1 objects/131.6 KiB.\n",
      "Copying gs://fairing-lightgbm/regression-example/regression.train...\n",
      "/ [1 files][  1.2 MiB/  1.2 MiB]                                                \n",
      "Operation completed over 1 objects/1.2 MiB.\n",
      "Copying gs://fairing-lightgbm/regression-example/regression.test...\n",
      "/ [1 files][ 85.7 KiB/ 85.7 KiB]                                                \n",
      "Operation completed over 1 objects/85.7 KiB.\n",
      "All files are copied!\n",
      "[LightGBM] [Info] Finished loading parameters\n",
      "[LightGBM] [Info] Loading weights...\n",
      "[LightGBM] [Info] Finished loading data in 0.144989 seconds\n",
      "[LightGBM] [Info] Total Bins 6143\n",
      "[LightGBM] [Info] Number of data: 7000, number of used features: 28\n",
      "[LightGBM] [Info] Finished initializing training\n",
      "[LightGBM] [Info] Started training...\n",
      "[LightGBM] [Info] Start training from score 0.527422\n",
      "[LightGBM] [Info] 0.018033 seconds elapsed, finished iteration 1\n",
      "[LightGBM] [Info] 0.161452 seconds elapsed, finished iteration 2\n",
      "[LightGBM] [Info] 0.168948 seconds elapsed, finished iteration 3\n",
      "[LightGBM] [Info] 0.176372 seconds elapsed, finished iteration 4\n",
      "[LightGBM] [Info] 0.182670 seconds elapsed, finished iteration 5\n",
      "[LightGBM] [Info] 0.188983 seconds elapsed, finished iteration 6\n",
      "[LightGBM] [Info] 0.195202 seconds elapsed, finished iteration 7\n",
      "[LightGBM] [Info] 0.202604 seconds elapsed, finished iteration 8\n",
      "[LightGBM] [Info] 0.210283 seconds elapsed, finished iteration 9\n",
      "[LightGBM] [Info] 0.217818 seconds elapsed, finished iteration 10\n",
      "[LightGBM] [Info] Finished training\n",
      "Copying file:///app/model.txt [Content-Type=text/plain]...\n",
      "/ [1 files][ 28.6 KiB/ 28.6 KiB]                                                \n",
      "Operation completed over 1 objects/28.6 KiB.\n"
     ]
    },
    {
     "name": "stderr",
     "output_type": "stream",
     "text": [
      "Cleaning up job fairing-job-vhhsx...\n"
     ]
    },
    {
     "data": {
      "text/plain": [
       "<fairing.deployers.job.job.Job at 0x11e4bad30>"
      ]
     },
     "execution_count": 6,
     "metadata": {},
     "output_type": "execute_result"
    }
   ],
   "source": [
    "lightgbm.execute(config=params,\n",
    "      docker_registry=DOCKER_REGISTRY,\n",
    "      base_image=BASE_IMAGE)"
   ]
  },
  {
   "cell_type": "markdown",
   "metadata": {},
   "source": [
    "## Let's look at the trained model"
   ]
  },
  {
   "cell_type": "code",
   "execution_count": null,
   "metadata": {},
   "outputs": [],
   "source": [
    "url = params['model_output']\n",
    "!gsutil cp {url} /tmp/model.txt\n",
    "!head /tmp/model.txt"
   ]
  }
 ],
 "metadata": {
  "kernelspec": {
   "display_name": "Python 3",
   "language": "python",
   "name": "python3"
  },
  "language_info": {
   "codemirror_mode": {
    "name": "ipython",
    "version": 3
   },
   "file_extension": ".py",
   "mimetype": "text/x-python",
   "name": "python",
   "nbconvert_exporter": "python",
   "pygments_lexer": "ipython3",
   "version": "3.7.2"
  }
 },
 "nbformat": 4,
 "nbformat_minor": 2
}
