{
 "cells": [
  {
   "cell_type": "markdown",
   "metadata": {},
   "source": [
    "## A simple regression training using LightGBM through Fairing"
   ]
  },
  {
   "cell_type": "code",
   "execution_count": 6,
   "metadata": {},
   "outputs": [],
   "source": [
    "import os\n",
    "from time import gmtime, strftime\n",
    "import fairing\n",
    "from fairing.frameworks import lightgbm\n",
    "\n",
    "# Setting up google container repositories (GCR) for storing output containers\n",
    "# You can use any docker container registry istead of GCR\n",
    "GCP_PROJECT = fairing.cloud.gcp.guess_project_name()\n",
    "DOCKER_REGISTRY = 'gcr.io/{}/fairing-job'.format(GCP_PROJECT)"
   ]
  },
  {
   "cell_type": "markdown",
   "metadata": {},
   "source": [
    "## Launch a LightGBM train task"
   ]
  },
  {
   "cell_type": "code",
   "execution_count": 7,
   "metadata": {},
   "outputs": [
    {
     "name": "stdout",
     "output_type": "stream",
     "text": [
      "Creating gs://caip-dexter-bugbash-fairing/...\n",
      "ServiceException: 409 Bucket caip-dexter-bugbash-fairing already exists.\n"
     ]
    }
   ],
   "source": [
    "# Creating a bucket for copying the trained model. \n",
    "# You can set gcs_bucket variable to an existing bucket name if that is desired.\n",
    "gcs_bucket = \"gs://{}-fairing\".format(GCP_PROJECT)\n",
    "!gsutil mb {gcs_bucket}"
   ]
  },
  {
   "cell_type": "code",
   "execution_count": 8,
   "metadata": {},
   "outputs": [],
   "source": [
    "params = {\n",
    "    'task': 'train',\n",
    "    'boosting_type': 'gbdt',\n",
    "    'objective': 'regression',\n",
    "    'metric': 'l2',\n",
    "    'metric_freq': 1,\n",
    "    'num_leaves': 31,\n",
    "    'learning_rate': 0.05,\n",
    "    'feature_fraction': 0.9,\n",
    "    'bagging_fraction': 0.8,\n",
    "    'bagging_freq': 5,\n",
    "    \"n_estimators\": 10,\n",
    "    \"is_training_metric\": \"true\",\n",
    "    \"valid_data\": \"gs://fairing-lightgbm/regression-example/regression.test\",\n",
    "    \"train_data\": \"gs://fairing-lightgbm/regression-example/regression.train\",\n",
    "    'verbose': 1,\n",
    "    \"verbose_eval\": 1,\n",
    "    \"model_output\": \"{}/lightgbm/example/model_{}.txt\".format(gcs_bucket, strftime(\"%Y_%m_%d_%H_%M_%S\", gmtime())),\n",
    "    \"num_machines\": 3,\n",
    "    \"tree_learner\": \"feature\"\n",
    "\n",
    "}"
   ]
  },
  {
   "cell_type": "code",
   "execution_count": 5,
   "metadata": {
    "scrolled": false
   },
   "outputs": [
    {
     "name": "stderr",
     "output_type": "stream",
     "text": [
      "Ignoring machine_list_file filed in the config\n",
      "Building image using Append builder...\n",
      "Creating docker context: /tmp/fairing_context_3vapkvxx\n",
      "Loading Docker credentials for repository 'gcr.io/kubeflow-fairing/lightgbm:latest'\n",
      "Invoking 'docker-credential-gcloud' to obtain Docker credentials.\n",
      "Successfully obtained Docker credentials.\n",
      "Image successfully built in 2.396838453991222s.\n",
      "Pushing image gcr.io/caip-dexter-bugbash/fairing-job/fairing-job:478CB1C6...\n",
      "Loading Docker credentials for repository 'gcr.io/caip-dexter-bugbash/fairing-job/fairing-job:478CB1C6'\n",
      "Invoking 'docker-credential-gcloud' to obtain Docker credentials.\n",
      "Successfully obtained Docker credentials.\n",
      "Uploading gcr.io/caip-dexter-bugbash/fairing-job/fairing-job:478CB1C6\n",
      "Layer sha256:5f79c90f8d7c1e4b72ecfb1ef6b6076ab0033fbdf3c67ec648a5f389c6a9fe2c exists, skipping\n",
      "Layer sha256:472a6afc63327632ba525d83814cd962d55ac3b8b3cd3e820ae311f05954cfe9 exists, skipping\n",
      "Layer sha256:4250b3117dca5e14edc32ebf1366cd54e4cda91f17610b76c504a86917ff8b95 exists, skipping\n",
      "Layer sha256:c5e155d5a1d130a7f8a3e24cee0d9e1349bff13f90ec6a941478e558fde53c14 exists, skipping\n",
      "Layer sha256:eebcea7223d8cbb7782843b87fd0ba476a81e843d1a439d08c61b204714fbfff exists, skipping\n",
      "Layer sha256:bd0b2dcc2cf93ecaf4091aa464c759b2da601def0668d5365a1e97164719deb3 exists, skipping\n",
      "Layer sha256:da8c9b9a4930c2a432e433b8650517d6823f8337c86f05a01f20a0fa2bbe8ecc exists, skipping\n",
      "Layer sha256:3b7ca19181b24b87e24423c01b490633bc1e47d2fcdc1987bf2e37949d6789b5 exists, skipping\n",
      "Layer sha256:1051ee813012d0ac82bc9a56fa8e32c3d4f2c5b2a338efc0e7d3264a2ae8857f exists, skipping\n",
      "Layer sha256:f987b28a530656ba58f8249701d40a3e894fb2dd546cc3d358f79095f76f2111 exists, skipping\n",
      "Layer sha256:221d80d00ae9675aad24913aacbadfac1ce8b7084f9765a6c0813486082c5c69 exists, skipping\n",
      "Layer sha256:425d7b2a5bcc7e8df5041d66655cd6173c16799afefb1645ca0e0b3fa8a1043d exists, skipping\n",
      "Layer sha256:dc3049ff3f44d2b6af6f7dce481e8032f696e65226118725321a398f06e72cc7 exists, skipping\n",
      "Layer sha256:85ed7a7d176dd6301bf6e51a1801949ea8851914398592208a8bb9f6c7a76bd4 pushed.\n",
      "Layer sha256:298d1e46b7d78f1e689407c84ce0418a70dd21cf6b72c684e24cda0e0878c960 pushed.\n",
      "Finished upload of: gcr.io/caip-dexter-bugbash/fairing-job/fairing-job:478CB1C6\n",
      "Pushed image gcr.io/caip-dexter-bugbash/fairing-job/fairing-job:478CB1C6 in 4.939492915989831s.\n",
      "Training job fairing-tfjob-q2trr launched.\n",
      "Waiting for fairing-tfjob-q2trr-worker-0 to start...\n",
      "Pod started running True\n"
     ]
    },
    {
     "name": "stdout",
     "output_type": "stream",
     "text": [
      "Cluster setup:\n",
      "fairing-tfjob-q2trr-chief-0.kubeflow.svc\t10.32.22.3\t2222\n",
      "fairing-tfjob-q2trr-worker-0.kubeflow.svc\t10.32.0.183\t2222\n",
      "fairing-tfjob-q2trr-worker-1.kubeflow.svc\t10.32.0.184\t2222\n",
      "Copying gs://fairing-lightgbm/regression-example/regression.train.weight...\n",
      "/ [1 files][131.6 KiB/131.6 KiB]                                                \n",
      "Operation completed over 1 objects/131.6 KiB.\n",
      "Copying gs://fairing-lightgbm/regression-example/regression.train...\n",
      "/ [1 files][  1.2 MiB/  1.2 MiB]                                                \n",
      "Operation completed over 1 objects/1.2 MiB.\n",
      "Copying gs://fairing-lightgbm/regression-example/regression.test...\n",
      "/ [1 files][ 85.7 KiB/ 85.7 KiB]                                                \n",
      "Operation completed over 1 objects/85.7 KiB.\n",
      "All files are copied!\n",
      "[LightGBM] [Warning] Unknown parameter: verbose_eval\n",
      "[LightGBM] [Info] Finished loading parameters\n",
      "[LightGBM] [Warning] Set TCP_NODELAY failed\n",
      "[LightGBM] [Info] Trying to bind port 2222...\n",
      "[LightGBM] [Info] Binding port 2222 succeeded\n",
      "[LightGBM] [Warning] Set TCP_NODELAY failed\n",
      "[LightGBM] [Info] Listening...\n",
      "[LightGBM] [Warning] Set TCP_NODELAY failed\n",
      "[LightGBM] [Warning] Set TCP_NODELAY failed\n",
      "[LightGBM] [Warning] Connecting to rank 1 failed, waiting for 10000 milliseconds\n",
      "[LightGBM] [Warning] Set TCP_NODELAY failed\n",
      "[LightGBM] [Info] Connected to rank 1\n",
      "[LightGBM] [Info] Connected to rank 2\n",
      "[LightGBM] [Info] Local rank: 0, total number of machines: 3\n",
      "[LightGBM] [Info] Finished initializing network\n",
      "[LightGBM] [Info] Loading weights...\n",
      "[LightGBM] [Info] Finished loading data in 0.503956 seconds\n",
      "[LightGBM] [Info] Total Bins 6143\n",
      "[LightGBM] [Info] Number of data: 7000, number of used features: 28\n",
      "[LightGBM] [Info] Finished initializing training\n",
      "[LightGBM] [Info] Started training...\n",
      "[LightGBM] [Info] Start training from score 0.527422\n",
      "[LightGBM] [Info] Iteration:1, training l2 : 0.243674\n",
      "[LightGBM] [Info] Iteration:1, valid_1 l2 : 0.243208\n",
      "[LightGBM] [Info] 6.581256 seconds elapsed, finished iteration 1\n",
      "[LightGBM] [Info] Iteration:2, training l2 : 0.239307\n",
      "[LightGBM] [Info] Iteration:2, valid_1 l2 : 0.239712\n",
      "[LightGBM] [Info] 13.293061 seconds elapsed, finished iteration 2\n",
      "[LightGBM] [Info] Iteration:3, training l2 : 0.23539\n",
      "[LightGBM] [Info] Iteration:3, valid_1 l2 : 0.236462\n",
      "[LightGBM] [Info] 18.374194 seconds elapsed, finished iteration 3\n",
      "[LightGBM] [Info] Iteration:4, training l2 : 0.23109\n",
      "[LightGBM] [Info] Iteration:4, valid_1 l2 : 0.232497\n",
      "[LightGBM] [Info] 24.198021 seconds elapsed, finished iteration 4\n",
      "[LightGBM] [Info] Iteration:5, training l2 : 0.227118\n",
      "[LightGBM] [Info] Iteration:5, valid_1 l2 : 0.228686\n",
      "[LightGBM] [Info] 31.296441 seconds elapsed, finished iteration 5\n",
      "[LightGBM] [Info] Iteration:6, training l2 : 0.223666\n",
      "[LightGBM] [Info] Iteration:6, valid_1 l2 : 0.226324\n",
      "[LightGBM] [Info] 37.374028 seconds elapsed, finished iteration 6\n",
      "[LightGBM] [Info] Iteration:7, training l2 : 0.220586\n",
      "[LightGBM] [Info] Iteration:7, valid_1 l2 : 0.223131\n",
      "[LightGBM] [Info] 41.884414 seconds elapsed, finished iteration 7\n",
      "[LightGBM] [Info] Iteration:8, training l2 : 0.217165\n",
      "[LightGBM] [Info] Iteration:8, valid_1 l2 : 0.220012\n",
      "[LightGBM] [Info] 46.408525 seconds elapsed, finished iteration 8\n",
      "[LightGBM] [Info] Iteration:9, training l2 : 0.214045\n",
      "[LightGBM] [Info] Iteration:9, valid_1 l2 : 0.217459\n",
      "[LightGBM] [Info] 52.270148 seconds elapsed, finished iteration 9\n",
      "[LightGBM] [Info] Iteration:10, training l2 : 0.211153\n",
      "[LightGBM] [Info] Iteration:10, valid_1 l2 : 0.214976\n",
      "[LightGBM] [Info] 58.220220 seconds elapsed, finished iteration 10\n",
      "[LightGBM] [Info] Finished training\n",
      "[LightGBM] [Info] Finished linking network in 11.960218 seconds\n",
      "Copying file:///app/model_2019_06_14_01_04_26.txt [Content-Type=text/plain]...\n",
      "/ [1 files][ 28.6 KiB/ 28.6 KiB]                                                \n",
      "Operation completed over 1 objects/28.6 KiB.\n"
     ]
    },
    {
     "data": {
      "text/plain": [
       "<fairing.deployers.tfjob.tfjob.TfJob at 0x122e895f8>"
      ]
     },
     "execution_count": 5,
     "metadata": {},
     "output_type": "execute_result"
    }
   ],
   "source": [
    "lightgbm.execute(config=params,\n",
    "                          docker_registry=DOCKER_REGISTRY,\n",
    "                          cores_per_worker=2, # Allocating 2 CPU cores per worker instance\n",
    "                          memory_per_worker=0.5, # Allocating 0.5GB of memory per worker instance\n",
    "                          stream_log=True)"
   ]
  },
  {
   "cell_type": "markdown",
   "metadata": {},
   "source": [
    "## Let's look at the trained model"
   ]
  },
  {
   "cell_type": "code",
   "execution_count": null,
   "metadata": {},
   "outputs": [],
   "source": [
    "url = params['model_output']\n",
    "model_name = os.path.split(url)[1]\n",
    "!gsutil cp {url} /tmp/{model_name}\n",
    "!head /tmp/{model_name}"
   ]
  },
  {
   "cell_type": "markdown",
   "metadata": {},
   "source": [
    "## Runnig a prediction task using the trained model"
   ]
  },
  {
   "cell_type": "code",
   "execution_count": null,
   "metadata": {},
   "outputs": [],
   "source": [
    "predict_params = {\n",
    "    \"task\": \"predict\",\n",
    "    'metric': 'l2',\n",
    "    \"data\": \"gs://fairing-lightgbm/regression-example/regression.test\",\n",
    "    \"input_model\": params['model_output'],\n",
    "    \"output_result\": \"{}/lightgbm/example/prediction_result_{}.txt\".format(gcs_bucket, model_name)\n",
    "}"
   ]
  },
  {
   "cell_type": "code",
   "execution_count": null,
   "metadata": {},
   "outputs": [],
   "source": [
    "lightgbm.execute(config=predict_params, docker_registry=DOCKER_REGISTRY)"
   ]
  },
  {
   "cell_type": "code",
   "execution_count": null,
   "metadata": {},
   "outputs": [],
   "source": [
    "url = predict_params['output_result']\n",
    "file_name = os.path.split(url)[1]\n",
    "!gsutil cp {url} /tmp/{file_name}"
   ]
  },
  {
   "cell_type": "code",
   "execution_count": null,
   "metadata": {},
   "outputs": [],
   "source": [
    "import pandas as pd\n",
    "predictions = pd.read_csv(\"/tmp/{}\".format(file_name), header=None)\n",
    "print(\"Prediction mean: {}, count: {}\".format(predictions.mean()[0], predictions.count()[0]))"
   ]
  },
  {
   "cell_type": "code",
   "execution_count": null,
   "metadata": {},
   "outputs": [],
   "source": []
  }
 ],
 "metadata": {
  "kernelspec": {
   "display_name": "Python 3",
   "language": "python",
   "name": "python3"
  },
  "language_info": {
   "codemirror_mode": {
    "name": "ipython",
    "version": 3
   },
   "file_extension": ".py",
   "mimetype": "text/x-python",
   "name": "python",
   "nbconvert_exporter": "python",
   "pygments_lexer": "ipython3",
   "version": "3.7.2"
  }
 },
 "nbformat": 4,
 "nbformat_minor": 2
}
