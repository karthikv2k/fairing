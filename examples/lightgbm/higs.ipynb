{
 "cells": [
  {
   "cell_type": "markdown",
   "metadata": {},
   "source": [
    "## A simple regression training using LightGBM through Fairing"
   ]
  },
  {
   "cell_type": "code",
   "execution_count": null,
   "metadata": {},
   "outputs": [],
   "source": [
    "import os\n",
    "from time import gmtime, strftime\n",
    "import fairing\n",
    "from fairing.frameworks import lightgbm\n",
    "\n",
    "# Setting up google container repositories (GCR) for storing output containers\n",
    "# You can use any docker container registry istead of GCR\n",
    "GCP_PROJECT = fairing.cloud.gcp.guess_project_name()\n",
    "DOCKER_REGISTRY = 'gcr.io/{}/fairing-job'.format(GCP_PROJECT)"
   ]
  },
  {
   "cell_type": "markdown",
   "metadata": {},
   "source": [
    "## Data Preparation"
   ]
  },
  {
   "cell_type": "markdown",
   "metadata": {},
   "source": [
    "#https://archive.ics.uci.edu/ml/datasets/HIGGS\n",
    "dataset_url = \"https://archive.ics.uci.edu/ml/machine-learning-databases/00280/HIGGS.csv.gz\"\n",
    "dataset_gz_path = \"HIGGS.csv.gz\"\n",
    "dataset_path = dataset_gz_path.split(\".gz\")[0]\n",
    "gcs_bucket = \"gs://{}-fairing\".format(GCP_PROJECT)\n",
    "dataset_path_in_gcs = \"{}/higgs-dataset\".fromat(gcs_bucket)\n",
    "train_gcs_path = \"{}/train.csv\".format(dataset_path_in_gcs)\n",
    "validation_gcs_path = \"{}/validation.csv\".format(dataset_path_in_gcs)\n",
    "eval_gcs_path = \"{}/test.csv\".format(dataset_path_in_gcs)"
   ]
  },
  {
   "cell_type": "markdown",
   "metadata": {},
   "source": [
    "if not os.path.exists(dataset_path):\n",
    "    !wget  -o {dataset_gz_path}\n",
    "else:\n",
    "    print(\"{} exists so not downloading.\".format(dataset_gz_path))\n",
    "if not os.path.exists(dataset_path):\n",
    "    !tar -xvvf {dataset_gz_path}\n",
    "else:\n",
    "    print(\"{} exists so not extracting.\".format(dataset_path))"
   ]
  },
  {
   "cell_type": "markdown",
   "metadata": {},
   "source": [
    "### Create a GCS bucket for storing model output and predictions"
   ]
  },
  {
   "cell_type": "code",
   "execution_count": null,
   "metadata": {},
   "outputs": [],
   "source": [
    "# Creating a bucket for copying the trained model. \n",
    "# You can set gcs_bucket variable to an existing bucket name if that is desired.\n",
    "gcs_bucket = \"gs://{}-fairing\".format(GCP_PROJECT)\n",
    "!gsutil mb {gcs_bucket}"
   ]
  },
  {
   "cell_type": "markdown",
   "metadata": {},
   "source": [
    "## Parallel training with tree_learner = \"data\""
   ]
  },
  {
   "cell_type": "code",
   "execution_count": null,
   "metadata": {},
   "outputs": [],
   "source": [
    "common_params = {\n",
    "    'task': 'train',\n",
    "    'boosting_type': 'gbdt',\n",
    "    'objective': 'binary',\n",
    "    'metric': 'cross_entropy',\n",
    "    'metric_freq': 1,\n",
    "    'num_leaves': 31,\n",
    "    'learning_rate': 0.05,\n",
    "    'feature_fraction': 0.9,\n",
    "    'bagging_fraction': 0.8,\n",
    "    'bagging_freq': 5,\n",
    "    \"n_estimators\": 100,\n",
    "    \"is_training_metric\": \"true\",\n",
    "    \"valid_data\": \"gs://caip-dexter-bugbash/lightgbm/higgs_wide/valid.csv\",\n",
    "    \"train_data\": \"gs://caip-dexter-bugbash/lightgbm/higgs_wide/train_0.csv,gs://caip-dexter-bugbash/lightgbm/higgs_wide/train_1.csv,gs://caip-dexter-bugbash/lightgbm/higgs_wide/train_2.csv,gs://caip-dexter-bugbash/lightgbm/higgs_wide/train_3.csv\",\n",
    "    'verbose': 1,\n",
    "    \"verbose_eval\": 1\n",
    "}"
   ]
  },
  {
   "cell_type": "code",
   "execution_count": null,
   "metadata": {
    "scrolled": false
   },
   "outputs": [],
   "source": [
    "params[\"num_threads\"]= 44\n",
    "params[\"tree_learner\"] = \"serial\"\n",
    "params[\"num_machines\"] = 1\n",
    "params['train_data'] = \"gs://caip-dexter-bugbash/lightgbm/higgs_wide_full/train.csv\"\n",
    "params['model_output'] =  \"{}/lightgbm/example/model_{}.txt\".format(gcs_bucket, strftime(\"%Y_%m_%d_%H_%M_%S\", gmtime()))\n",
    "lightgbm.execute(config=params,\n",
    "                 base_image='gcr.io/caip-dexter-bugbash/lightgbm:latest',\n",
    "                 docker_registry=DOCKER_REGISTRY,\n",
    "                 cores_per_worker=2,\n",
    "                 stream_log=True)"
   ]
  },
  {
   "cell_type": "code",
   "execution_count": null,
   "metadata": {
    "scrolled": true
   },
   "outputs": [],
   "source": [
    "params[\"num_threads\"]= 44\n",
    "params[\"tree_learner\"] = \"feature\"\n",
    "params[\"num_machines\"] = 4\n",
    "lightgbm.execute(config=params,\n",
    "                 base_image='gcr.io/caip-dexter-bugbash/lightgbm:latest',\n",
    "                 docker_registry=DOCKER_REGISTRY,\n",
    "                 cores_per_worker=94,\n",
    "                 stream_log=True) #59-8"
   ]
  },
  {
   "cell_type": "code",
   "execution_count": null,
   "metadata": {
    "scrolled": true
   },
   "outputs": [],
   "source": [
    "params[\"num_threads\"]= 44\n",
    "params[\"tree_learner\"] = \"voting\"\n",
    "params[\"num_machines\"] = 4\n",
    "lightgbm.execute(config=params,\n",
    "                 base_image='gcr.io/caip-dexter-bugbash/lightgbm:latest',\n",
    "                 docker_registry=DOCKER_REGISTRY,\n",
    "                 cores_per_worker=94,\n",
    "                 stream_log=True)"
   ]
  },
  {
   "cell_type": "code",
   "execution_count": null,
   "metadata": {
    "scrolled": true
   },
   "outputs": [],
   "source": [
    "params[\"num_threads\"]= 44\n",
    "params[\"tree_learner\"] = \"data\"\n",
    "params[\"num_machines\"] = 4\n",
    "lightgbm.execute(config=params,\n",
    "                 base_image='gcr.io/caip-dexter-bugbash/lightgbm:latest',\n",
    "                 docker_registry=DOCKER_REGISTRY,\n",
    "                 cores_per_worker=94,\n",
    "                 stream_log=True)\n"
   ]
  },
  {
   "cell_type": "markdown",
   "metadata": {},
   "source": [
    "## Let's look at the trained model"
   ]
  },
  {
   "cell_type": "code",
   "execution_count": null,
   "metadata": {},
   "outputs": [],
   "source": [
    "url = params['model_output']\n",
    "model_name = os.path.split(url)[1]\n",
    "!gsutil cp {url} /tmp/{model_name}\n",
    "!cat /tmp/{model_name}"
   ]
  },
  {
   "cell_type": "code",
   "execution_count": null,
   "metadata": {},
   "outputs": [],
   "source": [
    "!cat /tmp/{model_name}"
   ]
  },
  {
   "cell_type": "markdown",
   "metadata": {},
   "source": [
    "## Runnig a prediction task using the trained model"
   ]
  },
  {
   "cell_type": "code",
   "execution_count": null,
   "metadata": {},
   "outputs": [],
   "source": [
    "url = params['model_output']\n",
    "model_name = os.path.split(url)[1]\n",
    "predict_params = {\n",
    "    \"task\": \"predict\",\n",
    "    'metric_freq': 1,\n",
    "    'metric': params['metric'],\n",
    "    \"data\": \"gs://caip-dexter-bugbash/lightgbm/higgs_wide/test.csv\",\n",
    "    \"input_model\": params['model_output'],\n",
    "    \"output_result\": \"{}/lightgbm/example/prediction_result_{}\".format(gcs_bucket, model_name)\n",
    "}"
   ]
  },
  {
   "cell_type": "code",
   "execution_count": null,
   "metadata": {},
   "outputs": [],
   "source": [
    "lightgbm.execute(config=predict_params,\n",
    "                 base_image='gcr.io/caip-dexter-bugbash/lightgbm:latest',\n",
    " docker_registry=DOCKER_REGISTRY, cores_per_worker=90)"
   ]
  },
  {
   "cell_type": "code",
   "execution_count": null,
   "metadata": {},
   "outputs": [],
   "source": [
    "url = predict_params['output_result']\n",
    "file_name = os.path.split(url)[1]\n",
    "!gsutil cp {url} /tmp/{file_name}"
   ]
  },
  {
   "cell_type": "code",
   "execution_count": null,
   "metadata": {},
   "outputs": [],
   "source": [
    "import pandas as pd\n",
    "predictions = pd.read_csv(\"/tmp/{}\".format(file_name), header=None)\n",
    "print(\"Prediction mean: {}, count: {}\".format(predictions.mean()[0], predictions.count()[0]))"
   ]
  },
  {
   "cell_type": "code",
   "execution_count": null,
   "metadata": {},
   "outputs": [],
   "source": []
  }
 ],
 "metadata": {
  "kernelspec": {
   "display_name": "Python 3",
   "language": "python",
   "name": "python3"
  },
  "language_info": {
   "codemirror_mode": {
    "name": "ipython",
    "version": 3
   },
   "file_extension": ".py",
   "mimetype": "text/x-python",
   "name": "python",
   "nbconvert_exporter": "python",
   "pygments_lexer": "ipython3",
   "version": "3.7.2"
  }
 },
 "nbformat": 4,
 "nbformat_minor": 2
}
