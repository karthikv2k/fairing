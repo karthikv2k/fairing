{
 "cells": [
  {
   "cell_type": "code",
   "execution_count": 1,
   "metadata": {},
   "outputs": [],
   "source": [
    "import fairing\n",
    "from fairing import TrainJob\n",
    "from fairing.backends import KubeflowGKEBackend\n",
    "from fairing.kubernetes.utils import get_resource_mutator"
   ]
  },
  {
   "cell_type": "markdown",
   "metadata": {},
   "source": [
    "## Executing a python file"
   ]
  },
  {
   "cell_type": "code",
   "execution_count": 2,
   "metadata": {},
   "outputs": [
    {
     "name": "stdout",
     "output_type": "stream",
     "text": [
      "Overwriting train.py\n"
     ]
    }
   ],
   "source": [
    "%%writefile train.py\n",
    "print(\"hello world!\")"
   ]
  },
  {
   "cell_type": "code",
   "execution_count": 3,
   "metadata": {
    "scrolled": true
   },
   "outputs": [
    {
     "name": "stderr",
     "output_type": "stream",
     "text": [
      "Using default docker registry: gcr.io/caip-dexter-bugbash/fairing-job\n",
      "Using default base docker image: registry.hub.docker.com/library/python:3.7.2\n",
      "Using builder: <class 'fairing.builders.append.append.AppendBuilder'>\n",
      "Building the docker image.\n",
      "Building image using Append builder...\n",
      "Creating docker context: /tmp/fairing_context_xcf7eks1\n",
      "Loading Docker credentials for repository 'registry.hub.docker.com/library/python:3.7.2'\n",
      "Image successfully built in 2.1475668199999998s.\n",
      "Pushing image gcr.io/caip-dexter-bugbash/fairing-job/fairing-job:712C5DCF...\n",
      "Loading Docker credentials for repository 'gcr.io/caip-dexter-bugbash/fairing-job/fairing-job:712C5DCF'\n",
      "Invoking 'docker-credential-gcloud' to obtain Docker credentials.\n",
      "Successfully obtained Docker credentials.\n",
      "Uploading gcr.io/caip-dexter-bugbash/fairing-job/fairing-job:712C5DCF\n",
      "Layer sha256:d54db43011fd116b8cb6d9e49e268cee1fa6212f152b30cbfa7f3c4c684427c3 exists, skipping\n",
      "Layer sha256:dbf17696f820c577bbd8ebd88660acd4b7a3068f185a07ae296c32b86a70ad89 exists, skipping\n",
      "Layer sha256:e79bb959ec00faf01da52437df4fad4537ec669f60455a38ad583ec2b8f00498 exists, skipping\n",
      "Layer sha256:7dc3a6a0e509ba4468dafa767116859fcfe1bfd8ad9101ec73691fbd6e1d314a exists, skipping\n",
      "Layer sha256:d4b7902036fe0cefdfe9ccf0404fe13322ecbd552f132be73d3e840f95538838 exists, skipping\n",
      "Layer sha256:7d3cdae560215b5913fcb23622a9f98b73109c422da51fff1d9eab3c53f0756b exists, skipping\n",
      "Layer sha256:69d473365bb390367b7a54a3e890ca28c4640a56dfe4f53a0036130c964a1e52 exists, skipping\n",
      "Layer sha256:1b2a72d4e03052566e99130108071fc4eca4942c62923e3e5cf19666a23088ef exists, skipping\n",
      "Layer sha256:a288a79001c33510fb7a2014a70576bb422f5a210526aa631d906446472b14f2 exists, skipping\n",
      "Layer sha256:433d59240acafece8b2c1d00ac9687abeaf7f0c423deb66f6a7335643025c72f pushed.\n",
      "Layer sha256:1107515f0c05a003042c291427fd6b79304306cc31fc4eceb9cbfdfed6dcbd2d pushed.\n",
      "Finished upload of: gcr.io/caip-dexter-bugbash/fairing-job/fairing-job:712C5DCF\n",
      "Pushed image gcr.io/caip-dexter-bugbash/fairing-job/fairing-job:712C5DCF in 6.047949131s.\n",
      "Training job fairing-job-sszpf launched.\n",
      "Waiting for fairing-job-sszpf-xv76j to start...\n",
      "Pod started running False\n",
      "Cleaning up job fairing-job-sszpf...\n"
     ]
    },
    {
     "name": "stdout",
     "output_type": "stream",
     "text": [
      "hello world!\n"
     ]
    },
    {
     "data": {
      "text/plain": [
       "'fairing-job-sszpf'"
      ]
     },
     "execution_count": 3,
     "metadata": {},
     "output_type": "execute_result"
    }
   ],
   "source": [
    "job = TrainJob(\"train.py\", backend=KubeflowGKEBackend())\n",
    "job.submit()"
   ]
  },
  {
   "cell_type": "markdown",
   "metadata": {},
   "source": [
    "## Executing a python function"
   ]
  },
  {
   "cell_type": "code",
   "execution_count": 4,
   "metadata": {},
   "outputs": [],
   "source": [
    "def train():\n",
    "    print(\"simple train job!\")"
   ]
  },
  {
   "cell_type": "code",
   "execution_count": 5,
   "metadata": {
    "scrolled": false
   },
   "outputs": [
    {
     "name": "stderr",
     "output_type": "stream",
     "text": [
      "Using default docker registry: gcr.io/caip-dexter-bugbash/fairing-job\n",
      "Using default base docker image: registry.hub.docker.com/library/python:3.7.2\n",
      "Using builder: <class 'fairing.builders.append.append.AppendBuilder'>\n",
      "Building the docker image.\n",
      "Building image using Append builder...\n",
      "Creating docker context: /tmp/fairing_context_c8x0q1ah\n",
      "/Users/cartick/Documents/workspace/fairing/venv/lib/python3.7/site-packages/fairing/__init__.py already exists in Fairing context, skipping...\n",
      "Loading Docker credentials for repository 'registry.hub.docker.com/library/python:3.7.2'\n"
     ]
    },
    {
     "name": "stdout",
     "output_type": "stream",
     "text": [
      "/Users/cartick/Documents/workspace/fairing/venv/lib/python3.7/site-packages/fairing functions function_shim.py /app/ function_shim.py\n"
     ]
    },
    {
     "name": "stderr",
     "output_type": "stream",
     "text": [
      "Image successfully built in 0.919107983s.\n",
      "Pushing image gcr.io/caip-dexter-bugbash/fairing-job/fairing-job:77F309C7...\n",
      "Loading Docker credentials for repository 'gcr.io/caip-dexter-bugbash/fairing-job/fairing-job:77F309C7'\n",
      "Invoking 'docker-credential-gcloud' to obtain Docker credentials.\n",
      "Successfully obtained Docker credentials.\n",
      "Uploading gcr.io/caip-dexter-bugbash/fairing-job/fairing-job:77F309C7\n",
      "Layer sha256:d54db43011fd116b8cb6d9e49e268cee1fa6212f152b30cbfa7f3c4c684427c3 exists, skipping\n",
      "Layer sha256:e79bb959ec00faf01da52437df4fad4537ec669f60455a38ad583ec2b8f00498 exists, skipping\n",
      "Layer sha256:dbf17696f820c577bbd8ebd88660acd4b7a3068f185a07ae296c32b86a70ad89 exists, skipping\n",
      "Layer sha256:d4b7902036fe0cefdfe9ccf0404fe13322ecbd552f132be73d3e840f95538838 exists, skipping\n",
      "Layer sha256:7dc3a6a0e509ba4468dafa767116859fcfe1bfd8ad9101ec73691fbd6e1d314a exists, skipping\n",
      "Layer sha256:69d473365bb390367b7a54a3e890ca28c4640a56dfe4f53a0036130c964a1e52 exists, skipping\n",
      "Layer sha256:1b2a72d4e03052566e99130108071fc4eca4942c62923e3e5cf19666a23088ef exists, skipping\n",
      "Layer sha256:7d3cdae560215b5913fcb23622a9f98b73109c422da51fff1d9eab3c53f0756b exists, skipping\n",
      "Layer sha256:a288a79001c33510fb7a2014a70576bb422f5a210526aa631d906446472b14f2 exists, skipping\n",
      "Layer sha256:0b93dfff349c25541b9582b7d9cc82a299157b5147216b40c5ad36268d1d3799 pushed.\n",
      "Layer sha256:8b4a6e2a6d555fbe65960e2ac71a7ead2bafaa371910fd714818894fad53c47c pushed.\n",
      "Finished upload of: gcr.io/caip-dexter-bugbash/fairing-job/fairing-job:77F309C7\n",
      "Pushed image gcr.io/caip-dexter-bugbash/fairing-job/fairing-job:77F309C7 in 3.7669658340000005s.\n",
      "Training job fairing-job-dvhw8 launched.\n",
      "Waiting for fairing-job-dvhw8-gvpkw to start...\n",
      "Pod started running True\n",
      "Cleaning up job fairing-job-dvhw8...\n"
     ]
    },
    {
     "name": "stdout",
     "output_type": "stream",
     "text": [
      "simple train job!\n"
     ]
    },
    {
     "data": {
      "text/plain": [
       "'fairing-job-dvhw8'"
      ]
     },
     "execution_count": 5,
     "metadata": {},
     "output_type": "execute_result"
    }
   ],
   "source": [
    "job = TrainJob(train, backend=KubeflowGKEBackend())\n",
    "job.submit()"
   ]
  },
  {
   "cell_type": "markdown",
   "metadata": {},
   "source": [
    "## Executing a complete notebook"
   ]
  },
  {
   "cell_type": "code",
   "execution_count": 6,
   "metadata": {},
   "outputs": [
    {
     "name": "stdout",
     "output_type": "stream",
     "text": [
      "Writing requirements.txt\n"
     ]
    }
   ],
   "source": [
    "%%writefile requirements.txt\n",
    "papermill\n",
    "jupyter"
   ]
  },
  {
   "cell_type": "code",
   "execution_count": 7,
   "metadata": {
    "scrolled": true
   },
   "outputs": [
    {
     "name": "stderr",
     "output_type": "stream",
     "text": [
      "Using default docker registry: gcr.io/caip-dexter-bugbash/fairing-job\n",
      "Using default base docker image: registry.hub.docker.com/library/python:3.7.2\n",
      "Using builder: <class 'fairing.builders.docker.docker.DockerBuilder'>\n",
      "Building the docker image.\n",
      "Building image using docker\n",
      "Docker command: ['papermill', 'train.ipynb', 'fairing_output_notebook.ipynb', '--log-output']\n",
      "Creating docker context: /tmp/fairing_context_gws9rxsz\n",
      "Building docker image gcr.io/caip-dexter-bugbash/fairing-job/fairing-job:407267E9...\n",
      "Build output: Step 1/7 : FROM registry.hub.docker.com/library/python:3.7.2\n",
      "Build output: \n",
      "Build output: ---> 2053ca75899e\n",
      "Build output: Step 2/7 : WORKDIR /app/\n",
      "Build output: \n",
      "Build output: ---> Using cache\n",
      "Build output: ---> 2c7f8a216fa8\n",
      "Build output: Step 3/7 : ENV FAIRING_RUNTIME 1\n",
      "Build output: \n",
      "Build output: ---> Using cache\n",
      "Build output: ---> 13640ae5453f\n",
      "Build output: Step 4/7 : COPY /app//requirements.txt /app/\n",
      "Build output: \n",
      "Build output: ---> Using cache\n",
      "Build output: ---> 3161c0406180\n",
      "Build output: Step 5/7 : RUN if [ -e requirements.txt ];then pip install --no-cache -r requirements.txt; fi\n",
      "Build output: \n",
      "Build output: ---> Using cache\n",
      "Build output: ---> 83377cf8e784\n",
      "Build output: Step 6/7 : COPY /app/ /app/\n",
      "Build output: \n",
      "Build output: ---> Using cache\n",
      "Build output: ---> c5e14485c920\n",
      "Build output: Step 7/7 : CMD papermill train.ipynb fairing_output_notebook.ipynb --log-output\n",
      "Build output: \n",
      "Build output: ---> Using cache\n",
      "Build output: ---> dfa9b86052c5\n",
      "Push finished: {'ID': 'sha256:dfa9b86052c5795578335eee1cc0f42ab58661259b148ff7eee12a0f224fad26'}\n",
      "Build output: Successfully built dfa9b86052c5\n",
      "Build output: Successfully tagged gcr.io/caip-dexter-bugbash/fairing-job/fairing-job:407267E9\n",
      "Publishing image gcr.io/caip-dexter-bugbash/fairing-job/fairing-job:407267E9...\n",
      "Push output: The push refers to repository [gcr.io/caip-dexter-bugbash/fairing-job/fairing-job] None\n",
      "Push output: Preparing None\n",
      "Push output: Preparing None\n",
      "Push output: Preparing None\n",
      "Push output: Preparing None\n",
      "Push output: Preparing None\n",
      "Push output: Preparing None\n",
      "Push output: Preparing None\n",
      "Push output: Preparing None\n",
      "Push output: Preparing None\n",
      "Push output: Preparing None\n",
      "Push output: Preparing None\n",
      "Push output: Preparing None\n",
      "Push output: Preparing None\n",
      "Push output: Waiting None\n",
      "Push output: Waiting None\n",
      "Push output: Waiting None\n",
      "Push output: Waiting None\n",
      "Push output: Waiting None\n",
      "Push output: Waiting None\n",
      "Push output: Waiting None\n",
      "Push output: Waiting None\n",
      "Push output: Layer already exists None\n",
      "Push output: Layer already exists None\n",
      "Push output: Layer already exists None\n",
      "Push output: Layer already exists None\n",
      "Push output: Layer already exists None\n",
      "Push output: Layer already exists None\n",
      "Push output: Layer already exists None\n",
      "Push output: Layer already exists None\n",
      "Push output: Layer already exists None\n",
      "Push output: Layer already exists None\n",
      "Push output: Layer already exists None\n",
      "Push output: Layer already exists None\n",
      "Push output: Layer already exists None\n",
      "Push output: 407267E9: digest: sha256:bf9cb2fdf00f388771adfd05929286d657c22ca06ceeecba126d3b52fb0aa6b5 size: 3050 None\n",
      "Push finished: {'Tag': '407267E9', 'Digest': 'sha256:bf9cb2fdf00f388771adfd05929286d657c22ca06ceeecba126d3b52fb0aa6b5', 'Size': 3050}\n",
      "Training job fairing-job-cmpss launched.\n",
      "Waiting for fairing-job-cmpss-phhn8 to start...\n",
      "Pod started running True\n"
     ]
    },
    {
     "name": "stdout",
     "output_type": "stream",
     "text": [
      "Input Notebook:  train.ipynb\n",
      "Output Notebook: fairing_output_notebook.ipynb\n",
      "Executing notebook with kernel: python3\n",
      "Executing Cell 1---------------------------------------\n",
      "training in notebook!\n",
      "\n",
      "Ending Cell 1------------------------------------------\n"
     ]
    },
    {
     "name": "stderr",
     "output_type": "stream",
     "text": [
      "Cleaning up job fairing-job-cmpss...\n"
     ]
    },
    {
     "data": {
      "text/plain": [
       "'fairing-job-cmpss'"
      ]
     },
     "execution_count": 7,
     "metadata": {},
     "output_type": "execute_result"
    }
   ],
   "source": [
    "job = TrainJob(\"train.ipynb\", backend=KubeflowGKEBackend(), input_files=[\"requirements.txt\"])\n",
    "job.submit()"
   ]
  },
  {
   "cell_type": "markdown",
   "metadata": {},
   "source": [
    "## Executing it with large #CPUs and huge Memory\n",
    "You Kubernetes cluster should have a node pool that can satisfy these resource requests. For example, to schedule a job with 90 cpus and 600GB memory you need a nodepool created using n1-hihmem-624 in GCP."
   ]
  },
  {
   "cell_type": "code",
   "execution_count": 10,
   "metadata": {},
   "outputs": [
    {
     "name": "stdout",
     "output_type": "stream",
     "text": [
      "CPU count: 12\n",
      "Memory: {} 32.0\n"
     ]
    }
   ],
   "source": [
    "import multiprocessing\n",
    "import os\n",
    "def train():\n",
    "    print(\"CPU count: {}\".format(multiprocessing.cpu_count()))\n",
    "    print(\"Memory: {}\", os.sysconf('SC_PAGE_SIZE') * os.sysconf('SC_PHYS_PAGES')/(1024.**3))\n",
    "train()"
   ]
  },
  {
   "cell_type": "code",
   "execution_count": 11,
   "metadata": {
    "scrolled": true
   },
   "outputs": [
    {
     "name": "stderr",
     "output_type": "stream",
     "text": [
      "Using default docker registry: gcr.io/caip-dexter-bugbash/fairing-job\n",
      "Using default base docker image: registry.hub.docker.com/library/python:3.7.2\n",
      "Using builder: <class 'fairing.builders.docker.docker.DockerBuilder'>\n",
      "Building the docker image.\n",
      "Building image using docker\n",
      "Docker command: ['python', '/app/function_shim.py', '--serialized_fn_file', '/app/pickled_fn.p']\n",
      "/Users/cartick/Documents/workspace/fairing/venv/lib/python3.7/site-packages/fairing/__init__.py already exists in Fairing context, skipping...\n",
      "Creating docker context: /tmp/fairing_context_wzcro10w\n",
      "/Users/cartick/Documents/workspace/fairing/venv/lib/python3.7/site-packages/fairing/__init__.py already exists in Fairing context, skipping...\n",
      "Building docker image gcr.io/caip-dexter-bugbash/fairing-job/fairing-job:A3BDC282...\n"
     ]
    },
    {
     "name": "stdout",
     "output_type": "stream",
     "text": [
      "/Users/cartick/Documents/workspace/fairing/venv/lib/python3.7/site-packages/fairing functions function_shim.py /app/ function_shim.py\n"
     ]
    },
    {
     "name": "stderr",
     "output_type": "stream",
     "text": [
      "Build output: Step 1/6 : FROM registry.hub.docker.com/library/python:3.7.2\n",
      "Build output: \n",
      "Build output: ---> 2053ca75899e\n",
      "Build output: Step 2/6 : WORKDIR /app/\n",
      "Build output: \n",
      "Build output: ---> Using cache\n",
      "Build output: ---> 2c7f8a216fa8\n",
      "Build output: Step 3/6 : ENV FAIRING_RUNTIME 1\n",
      "Build output: \n",
      "Build output: ---> Using cache\n",
      "Build output: ---> 13640ae5453f\n",
      "Build output: Step 4/6 : RUN if [ -e requirements.txt ];then pip install --no-cache -r requirements.txt; fi\n",
      "Build output: \n",
      "Build output: ---> Using cache\n",
      "Build output: ---> 9983b83db3d3\n",
      "Build output: Step 5/6 : COPY /app/ /app/\n",
      "Build output: \n",
      "Build output: ---> 71181901eb5a\n",
      "Build output: Step 6/6 : CMD python /app/function_shim.py --serialized_fn_file /app/pickled_fn.p\n",
      "Build output: \n",
      "Build output: ---> Running in 80c98d368b1d\n",
      "Build output: ---> 2c57eb26a16f\n",
      "Push finished: {'ID': 'sha256:2c57eb26a16f940f78608d7015a0751a56be39a8a8773a03ff45851bb8a89ad2'}\n",
      "Build output: Successfully built 2c57eb26a16f\n",
      "Build output: Successfully tagged gcr.io/caip-dexter-bugbash/fairing-job/fairing-job:A3BDC282\n",
      "Publishing image gcr.io/caip-dexter-bugbash/fairing-job/fairing-job:A3BDC282...\n",
      "Push output: The push refers to repository [gcr.io/caip-dexter-bugbash/fairing-job/fairing-job] None\n",
      "Push output: Preparing None\n",
      "Push output: Preparing None\n",
      "Push output: Preparing None\n",
      "Push output: Preparing None\n",
      "Push output: Preparing None\n",
      "Push output: Preparing None\n",
      "Push output: Preparing None\n",
      "Push output: Preparing None\n",
      "Push output: Preparing None\n",
      "Push output: Preparing None\n",
      "Push output: Preparing None\n",
      "Push output: Waiting None\n",
      "Push output: Waiting None\n",
      "Push output: Waiting None\n",
      "Push output: Waiting None\n",
      "Push output: Waiting None\n",
      "Push output: Waiting None\n",
      "Push output: Pushing [>                                                  ]  1.024kB/51.6kB\n",
      "Push output: Layer already exists None\n",
      "Push output: Layer already exists None\n",
      "Push output: Pushing [==================================================>]   59.9kB\n",
      "Push output: Layer already exists None\n",
      "Push output: Layer already exists None\n",
      "Push output: Layer already exists None\n",
      "Push output: Layer already exists None\n",
      "Push output: Layer already exists None\n",
      "Push output: Layer already exists None\n",
      "Push output: Layer already exists None\n",
      "Push output: Layer already exists None\n",
      "Push output: Pushed None\n",
      "Push output: A3BDC282: digest: sha256:a4e571a4844a75ab69563b339d8a085f5159d4c85a51384299cce0d6ee2fd279 size: 2633 None\n",
      "Push finished: {'Tag': 'A3BDC282', 'Digest': 'sha256:a4e571a4844a75ab69563b339d8a085f5159d4c85a51384299cce0d6ee2fd279', 'Size': 2633}\n",
      "Training job fairing-job-pqlr5 launched.\n",
      "Waiting for fairing-job-pqlr5-l4c6j to start...\n",
      "Waiting for fairing-job-pqlr5-l4c6j to start...\n",
      "Waiting for fairing-job-pqlr5-l4c6j to start...\n",
      "Waiting for fairing-job-pqlr5-l4c6j to start...\n",
      "Pod started running False\n",
      "Cleaning up job fairing-job-pqlr5...\n"
     ]
    },
    {
     "name": "stdout",
     "output_type": "stream",
     "text": [
      "CPU count: 96\n",
      "Memory: {} 614.1527976989746\n"
     ]
    },
    {
     "data": {
      "text/plain": [
       "'fairing-job-pqlr5'"
      ]
     },
     "execution_count": 11,
     "metadata": {},
     "output_type": "execute_result"
    }
   ],
   "source": [
    "job = TrainJob(train, base_docker_image=None, docker_registry=None,  backend=KubeflowGKEBackend(), \n",
    "              pod_spec_mutators=[get_resource_mutator(cpu=90, memory=600)])\n",
    "job.submit()"
   ]
  },
  {
   "cell_type": "code",
   "execution_count": null,
   "metadata": {},
   "outputs": [],
   "source": []
  }
 ],
 "metadata": {
  "kernelspec": {
   "display_name": "Python 3",
   "language": "python",
   "name": "python3"
  },
  "language_info": {
   "codemirror_mode": {
    "name": "ipython",
    "version": 3
   },
   "file_extension": ".py",
   "mimetype": "text/x-python",
   "name": "python",
   "nbconvert_exporter": "python",
   "pygments_lexer": "ipython3",
   "version": "3.7.2"
  }
 },
 "nbformat": 4,
 "nbformat_minor": 2
}
